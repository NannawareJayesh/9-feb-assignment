{
 "cells": [
  {
   "cell_type": "markdown",
   "id": "1ae5b8ab-faec-405a-ac31-d0a2fcd6c7e9",
   "metadata": {},
   "source": [
    "## 9 Feb Assignment"
   ]
  },
  {
   "cell_type": "markdown",
   "id": "b025d30b-e9dc-4f91-b28c-5c17ab947b81",
   "metadata": {},
   "source": [
    "Q1, Create a vehicle class with an init method having instance variables as name_of_vehicle, max_speed\n",
    "and average_of_vehicle."
   ]
  },
  {
   "cell_type": "code",
   "execution_count": 1,
   "id": "aea6a36d-03cf-407f-b987-6e9a85ed793a",
   "metadata": {},
   "outputs": [
    {
     "name": "stdout",
     "output_type": "stream",
     "text": [
      "Car\n",
      "200\n",
      "50\n",
      "Bike\n",
      "120\n",
      "30\n"
     ]
    }
   ],
   "source": [
    "class Vehicle:\n",
    "    def __init__(self, name_of_vehicle, max_speed, average_of_vehicle):\n",
    "        self.name_of_vehicle = name_of_vehicle\n",
    "        self.max_speed = max_speed\n",
    "        self.average_of_vehicle = average_of_vehicle\n",
    "car = Vehicle(\"Car\", 200, 50)\n",
    "bike = Vehicle(\"Bike\", 120, 30)\n",
    "\n",
    "print(car.name_of_vehicle) # \"Car\"\n",
    "print(car.max_speed) # 200\n",
    "print(car.average_of_vehicle) # 50\n",
    "\n",
    "print(bike.name_of_vehicle) # \"Bike\"\n",
    "print(bike.max_speed) # 120\n",
    "print(bike.average_of_vehicle) # 30\n"
   ]
  },
  {
   "cell_type": "markdown",
   "id": "84e6efa4-35b5-4250-8a02-c08317d76052",
   "metadata": {},
   "source": [
    "Q2. Create a child class car from the vehicle class created in Que 1, which will inherit the vehicle class.\n",
    "Create a method named seating_capacity which takes capacity as an argument and returns the name of\n",
    "the vehicle and its seating capacity."
   ]
  },
  {
   "cell_type": "code",
   "execution_count": 2,
   "id": "2378f322-c023-4e38-aa2c-dddc855a4f7e",
   "metadata": {},
   "outputs": [
    {
     "name": "stdout",
     "output_type": "stream",
     "text": [
      "Car has a seating capacity of 5 people\n"
     ]
    }
   ],
   "source": [
    "class Car(Vehicle):\n",
    "    def seating_capacity(self, capacity):\n",
    "        return f\"{self.name_of_vehicle} has a seating capacity of {capacity} people\"\n",
    "car = Car(\"Car\", 200, 50)\n",
    "print(car.seating_capacity(5)) # \"Car has a seating capacity of 5 people\"\n"
   ]
  },
  {
   "cell_type": "markdown",
   "id": "8798a9a6-b00a-4f20-8777-981ec0d21645",
   "metadata": {},
   "source": [
    "Q3. What is multiple inheritance? Write a python code to demonstrate multiple inheritance."
   ]
  },
  {
   "cell_type": "markdown",
   "id": "5ab0573f-12a2-4f49-bc83-0a3791b4b743",
   "metadata": {},
   "source": [
    "Multiple inheritance is a feature of object-oriented programming where a class can inherit attributes and methods from more than one parent class. In multiple inheritance, a child class can inherit from multiple parent classes and combine their functionality."
   ]
  },
  {
   "cell_type": "code",
   "execution_count": 3,
   "id": "e9d54a4f-e301-4465-af33-9ff9bcf2d0db",
   "metadata": {},
   "outputs": [
    {
     "name": "stdout",
     "output_type": "stream",
     "text": [
      "This is method 1 of parent 1.\n",
      "This is method 2 of parent 2.\n",
      "This is method 3 of child.\n"
     ]
    }
   ],
   "source": [
    "class Parent1:\n",
    "    def method1(self):\n",
    "        print(\"This is method 1 of parent 1.\")\n",
    "\n",
    "class Parent2:\n",
    "    def method2(self):\n",
    "        print(\"This is method 2 of parent 2.\")\n",
    "\n",
    "class Child(Parent1, Parent2):\n",
    "    def method3(self):\n",
    "        print(\"This is method 3 of child.\")\n",
    "\n",
    "# Create an instance of the Child class and call its methods\n",
    "child = Child()\n",
    "child.method1() # \"This is method 1 of parent 1.\"\n",
    "child.method2() # \"This is method 2 of parent 2.\"\n",
    "child.method3() # \"This is method 3 of child.\"\n"
   ]
  },
  {
   "cell_type": "markdown",
   "id": "7f3c5f04-cb9c-4fec-ac9c-4022841d7447",
   "metadata": {},
   "source": [
    "Q4. What are getter and setter in python? Create a class and create a getter and a setter method in this\n",
    "class."
   ]
  },
  {
   "cell_type": "markdown",
   "id": "6b663c3f-b133-4cf3-a239-552f8cc38e0c",
   "metadata": {},
   "source": [
    "Getter and setter methods are used in Python to provide access to an object's attributes in a controlled way. Getter methods are used to retrieve the value of an attribute, while setter methods are used to set the value of an attribute. This allows the programmer to control how the attributes of an object are accessed and modified."
   ]
  },
  {
   "cell_type": "code",
   "execution_count": 4,
   "id": "6405c55f-f190-4e4c-b479-97f246946649",
   "metadata": {},
   "outputs": [
    {
     "name": "stdout",
     "output_type": "stream",
     "text": [
      "John\n",
      "25\n",
      "Jane\n",
      "30\n"
     ]
    }
   ],
   "source": [
    "class Person:\n",
    "    def __init__(self, name, age):\n",
    "        self._name = name\n",
    "        self._age = age\n",
    "\n",
    "    def get_name(self):\n",
    "        return self._name\n",
    "\n",
    "    def set_name(self, name):\n",
    "        self._name = name\n",
    "\n",
    "    def get_age(self):\n",
    "        return self._age\n",
    "\n",
    "    def set_age(self, age):\n",
    "        self._age = age\n",
    "person = Person(\"John\", 25)\n",
    "print(person.get_name()) # \"John\"\n",
    "print(person.get_age()) # 25\n",
    "\n",
    "person.set_name(\"Jane\")\n",
    "person.set_age(30)\n",
    "\n",
    "print(person.get_name()) # \"Jane\"\n",
    "print(person.get_age()) # 30\n"
   ]
  },
  {
   "cell_type": "markdown",
   "id": "76720ccc-4254-4050-9f73-7810887d4c9f",
   "metadata": {},
   "source": [
    "Q5.What is method overriding in python? Write a python code to demonstrate method overriding."
   ]
  },
  {
   "cell_type": "markdown",
   "id": "9c676d75-892b-47a2-a0a5-f2df505c80a7",
   "metadata": {},
   "source": [
    "Method overriding is a feature of object-oriented programming where a child class provides its own implementation of a method that is already defined in its parent class. When a child class overrides a method of its parent class, it provides a new implementation for the same method name, which is used instead of the parent class's implementation whenever the method is called on an instance of the child class."
   ]
  },
  {
   "cell_type": "code",
   "execution_count": 5,
   "id": "fb259f00-17b9-4a2c-98e6-77b7b6e2b202",
   "metadata": {},
   "outputs": [
    {
     "name": "stdout",
     "output_type": "stream",
     "text": [
      "Meow\n",
      "Woof\n"
     ]
    }
   ],
   "source": [
    "class Animal:\n",
    "    def make_sound(self):\n",
    "        print(\"Generic animal sound\")\n",
    "\n",
    "class Cat(Animal):\n",
    "    def make_sound(self):\n",
    "        print(\"Meow\")\n",
    "\n",
    "class Dog(Animal):\n",
    "    def make_sound(self):\n",
    "        print(\"Woof\")\n",
    "\n",
    "# Create instances of the Cat and Dog classes and call their make_sound methods\n",
    "cat = Cat()\n",
    "dog = Dog()\n",
    "\n",
    "cat.make_sound() # \"Meow\"\n",
    "dog.make_sound() # \"Woof\"\n"
   ]
  },
  {
   "cell_type": "code",
   "execution_count": null,
   "id": "3aa1dd83-f91f-4b01-9a76-287ac43ac1e0",
   "metadata": {},
   "outputs": [],
   "source": []
  }
 ],
 "metadata": {
  "kernelspec": {
   "display_name": "Python 3 (ipykernel)",
   "language": "python",
   "name": "python3"
  },
  "language_info": {
   "codemirror_mode": {
    "name": "ipython",
    "version": 3
   },
   "file_extension": ".py",
   "mimetype": "text/x-python",
   "name": "python",
   "nbconvert_exporter": "python",
   "pygments_lexer": "ipython3",
   "version": "3.10.8"
  }
 },
 "nbformat": 4,
 "nbformat_minor": 5
}
